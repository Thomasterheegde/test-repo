{
 "cells": [
  {
   "cell_type": "markdown",
   "id": "f6188ca4",
   "metadata": {},
   "source": [
    "# Data Science Tools and Ecosystem"
   ]
  },
  {
   "cell_type": "markdown",
   "id": "98149a3a",
   "metadata": {},
   "source": [
    "In this notebook, Data Science Tools and Ecosystem are summarized."
   ]
  },
  {
   "cell_type": "markdown",
   "id": "0e3605be",
   "metadata": {},
   "source": [
    "**Objectives:**\n",
    "* list popular data science languages\n",
    "* list popular data science libraries\n",
    "* list popular data science tools\n",
    "* introduce simple arithmetics"
   ]
  },
  {
   "cell_type": "markdown",
   "id": "3373d6b3",
   "metadata": {},
   "source": [
    "Some of the popular languages that Data Scientists use are:\n",
    "1. Python\n",
    "2. R\n",
    "3. SQL\n",
    "4. Matlab"
   ]
  },
  {
   "cell_type": "markdown",
   "id": "d94f5ff1",
   "metadata": {},
   "source": [
    "Some of the commonly used libraries used by Data Scientists include:\n",
    "1. Pandas\n",
    "2. Numpy\n",
    "3. Scikit learn\n",
    "4. Tensorflow\n",
    "5. Keras"
   ]
  },
  {
   "cell_type": "markdown",
   "id": "4347a638",
   "metadata": {},
   "source": [
    "Several data science tools are:\n",
    "1. Jupyter notebooks\n",
    "2. Rstudio\n",
    "3. VS code \n",
    "4. Apache Spark\n",
    "5. Hadoop"
   ]
  },
  {
   "cell_type": "markdown",
   "id": "0f3e9ef7",
   "metadata": {},
   "source": [
    "Below are a few examples of evaluating arithmetic expressions in Python:"
   ]
  },
  {
   "cell_type": "code",
   "execution_count": 6,
   "id": "aa9c683d",
   "metadata": {},
   "outputs": [
    {
     "data": {
      "text/plain": [
       "17"
      ]
     },
     "execution_count": 6,
     "metadata": {},
     "output_type": "execute_result"
    }
   ],
   "source": [
    "# This a simple arithmetic expression to mutiply then add integers:\n",
    "(3*4) + 5"
   ]
  },
  {
   "cell_type": "code",
   "execution_count": 5,
   "id": "da3773bf",
   "metadata": {},
   "outputs": [
    {
     "name": "stdout",
     "output_type": "stream",
     "text": [
      "3.33\n"
     ]
    }
   ],
   "source": [
    "# This will convert 200 minutes to hours by diving by 60:\n",
    "minutes = 200\n",
    "hours = round((minutes / 60), 2)\n",
    "print(hours)"
   ]
  },
  {
   "cell_type": "markdown",
   "id": "447b3219",
   "metadata": {},
   "source": [
    "## Author:\n",
    "Thomas"
   ]
  }
 ],
 "metadata": {
  "kernelspec": {
   "display_name": "Python 3 (ipykernel)",
   "language": "python",
   "name": "python3"
  },
  "language_info": {
   "codemirror_mode": {
    "name": "ipython",
    "version": 3
   },
   "file_extension": ".py",
   "mimetype": "text/x-python",
   "name": "python",
   "nbconvert_exporter": "python",
   "pygments_lexer": "ipython3",
   "version": "3.11.5"
  }
 },
 "nbformat": 4,
 "nbformat_minor": 5
}
